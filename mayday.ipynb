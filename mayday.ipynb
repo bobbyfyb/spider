{
 "metadata": {
  "language_info": {
   "codemirror_mode": {
    "name": "ipython",
    "version": 3
   },
   "file_extension": ".py",
   "mimetype": "text/x-python",
   "name": "python",
   "nbconvert_exporter": "python",
   "pygments_lexer": "ipython3",
   "version": "3.7.4-final"
  },
  "orig_nbformat": 2,
  "kernelspec": {
   "name": "python_defaultSpec_1598944175907",
   "display_name": "Python 3.7.4 64-bit ('base': conda)"
  }
 },
 "nbformat": 4,
 "nbformat_minor": 2,
 "cells": [
  {
   "cell_type": "code",
   "execution_count": 1,
   "metadata": {},
   "outputs": [],
   "source": [
    "import requests\n",
    "from bs4 import BeautifulSoup\n",
    "import lxml\n",
    "import os"
   ]
  },
  {
   "cell_type": "code",
   "execution_count": 2,
   "metadata": {},
   "outputs": [],
   "source": [
    "r = requests.get(\"http://569xe.com/569xe-tttppp/1402348.html\")\n",
    "soup = BeautifulSoup(r.text, 'lxml')"
   ]
  },
  {
   "cell_type": "code",
   "execution_count": 3,
   "metadata": {},
   "outputs": [
    {
     "output_type": "execute_result",
     "data": {
      "text/plain": "<!DOCTYPE html>\n<html lang=\"zh-CN\">\n<head>\n<meta charset=\"utf-8\"/>\n<meta content=\"initial-scale=1.0, maximum-scale=1.0, user-scalable=no, width=device-width\" http-equiv=\"Content-type\" name=\"viewport\"/>\n<meta content=\"\" name=\"keywords\"/>\n<meta content=\"性感苗条的少妇\" name=\"description\"/>\n<title>性感苗条的少妇-情色五月天</title>\n<link href=\"/1994/java/static/css/style.css\" rel=\"stylesheet\"/>\n</head>\n<body>\n<div style=\"position:fixed;left:-9000px;top:-9000px;\"><div id=\"569xe\"><rt id=\"569xe\"><kbd id=\"569xe\"><progress id=\"569xe\"></progress></kbd></rt></div><table id=\"569xe\"></table><form id=\"569xe\"><video id=\"569xe\"><object id=\"569xe\"><strong id=\"569xe\"></strong></object></video></form><noframes id=\"569xe\"><output id=\"569xe\"><strong id=\"569xe\"><small id=\"569xe\"></small></strong></output></noframes><em id=\"569xe\"><bdo id=\"569xe\"><center id=\"569xe\"></center></bdo></em><big id=\"569xe\"></big><ins id=\"569xe\"><optgroup id=\"569xe\"><legend id=\"569xe\"></legend></optgroup></ins><track id=\"569xe\"/><tt id=\"569xe\"><sub id=\"569xe\"><span id=\"569xe\"><rt id=\"569xe\"></rt></span></sub></tt><source id=\"569xe\"/><meter id=\"569xe\"><b id=\"569xe\"></b></meter><nobr id=\"569xe\"></nobr><progress id=\"569xe\"></progress><pre id=\"569xe\"></pre><nobr id=\"569xe\"><video id=\"569xe\"></video></nobr><blockquote id=\"569xe\"></blockquote><ins id=\"569xe\"></ins><i id=\"569xe\"><code id=\"569xe\"><dd id=\"569xe\"></dd></code></i><blockquote id=\"569xe\"></blockquote><output id=\"569xe\"><menuitem id=\"569xe\"><small id=\"569xe\"><td id=\"569xe\"></td></small></menuitem></output><button id=\"569xe\"><cite id=\"569xe\"></cite></button><em id=\"569xe\"></em><i id=\"569xe\"></i><center id=\"569xe\"><rp id=\"569xe\"></rp></center><progress id=\"569xe\"><em id=\"569xe\"><kbd id=\"569xe\"><object id=\"569xe\"></object></kbd></em></progress><span id=\"569xe\"><ol id=\"569xe\"><input id=\"569xe\"/><optgroup id=\"569xe\"></optgroup></ol></span><del id=\"569xe\"><dfn id=\"569xe\"><td id=\"569xe\"><rt id=\"569xe\"></rt></td></dfn></del><tr id=\"569xe\"></tr><s id=\"569xe\"></s><wbr id=\"569xe\"/><code id=\"569xe\"></code><tt id=\"569xe\"><blockquote id=\"569xe\"><center id=\"569xe\"></center></blockquote></tt><form id=\"569xe\"><kbd id=\"569xe\"><samp id=\"569xe\"></samp></kbd></form><small id=\"569xe\"></small><b id=\"569xe\"></b><noframes id=\"569xe\"></noframes><menu id=\"569xe\"><big id=\"569xe\"><strike id=\"569xe\"></strike></big></menu><rt id=\"569xe\"></rt><samp id=\"569xe\"></samp><nobr id=\"569xe\"></nobr><s id=\"569xe\"></s><source id=\"569xe\"/><dd id=\"569xe\"></dd><rt id=\"569xe\"><u id=\"569xe\"><thead id=\"569xe\"></thead></u></rt><b id=\"569xe\"></b><track id=\"569xe\"/><acronym id=\"569xe\"><strong id=\"569xe\"><xmp id=\"569xe\"></xmp></strong></acronym><sup id=\"569xe\"><sub id=\"569xe\"><th id=\"569xe\"></th></sub></sup><dfn id=\"569xe\"></dfn>\n<output id=\"569xe\"></output><ins id=\"569xe\"><meter id=\"569xe\"><tbody id=\"569xe\"><tr id=\"569xe\"></tr></tbody></meter></ins><acronym id=\"569xe\"><label id=\"569xe\"></label></acronym><pre id=\"569xe\"><label id=\"569xe\"><xmp id=\"569xe\"></xmp></label></pre><p id=\"569xe\"></p><label id=\"569xe\"><listing id=\"569xe\"><track id=\"569xe\"/></listing></label><output id=\"569xe\"></output><strong id=\"569xe\"></strong><ruby id=\"569xe\"></ruby><u id=\"569xe\"></u><p id=\"569xe\"><del id=\"569xe\"><mark id=\"569xe\"><table id=\"569xe\"></table></mark></del></p><strong id=\"569xe\"></strong><label id=\"569xe\"></label><dd id=\"569xe\"></dd><tt id=\"569xe\"><input id=\"569xe\"/><progress id=\"569xe\"><form id=\"569xe\"></form></progress></tt><ruby id=\"569xe\"><mark id=\"569xe\"></mark></ruby><delect id=\"569xe\"></delect><source id=\"569xe\"><i id=\"569xe\"><delect id=\"569xe\"></delect></i></source><samp id=\"569xe\"></samp><b id=\"569xe\"></b><table id=\"569xe\"></table><p id=\"569xe\"><del id=\"569xe\"><mark id=\"569xe\"><table id=\"569xe\"></table></mark></del></p><ol id=\"569xe\"><input id=\"569xe\"/></ol><source id=\"569xe\"/><ruby id=\"569xe\"><menu id=\"569xe\"></menu></ruby><var id=\"569xe\"><nobr id=\"569xe\"></nobr></var><track id=\"569xe\"><ruby id=\"569xe\"></ruby></track><sub id=\"569xe\"><li id=\"569xe\"><rt id=\"569xe\"><u id=\"569xe\"></u></rt></li></sub><samp id=\"569xe\"></samp><strike id=\"569xe\"></strike><delect id=\"569xe\"></delect><li id=\"569xe\"></li><th id=\"569xe\"></th><em id=\"569xe\"><i id=\"569xe\"><delect id=\"569xe\"><dd id=\"569xe\"></dd></delect></i></em><strike id=\"569xe\"></strike><u id=\"569xe\"><thead id=\"569xe\"><form id=\"569xe\"></form></thead></u><object id=\"569xe\"></object><b id=\"569xe\"></b><progress id=\"569xe\"></progress><dl id=\"569xe\"><samp id=\"569xe\"></samp></dl><big id=\"569xe\"></big><big id=\"569xe\"><strike id=\"569xe\"></strike></big><acronym id=\"569xe\"></acronym><mark id=\"569xe\"><thead id=\"569xe\"><center id=\"569xe\"><source id=\"569xe\"/></center></thead></mark><optgroup id=\"569xe\"><em id=\"569xe\"></em></optgroup><i id=\"569xe\"></i><progress id=\"569xe\"><option id=\"569xe\"><kbd id=\"569xe\"><object id=\"569xe\"></object></kbd></option></progress><source id=\"569xe\"><var id=\"569xe\"><meter id=\"569xe\"><noframes id=\"569xe\"></noframes></meter></var></source><button id=\"569xe\"></button><source id=\"569xe\"/>\n<input id=\"569xe\"/><tt id=\"569xe\"></tt><div id=\"569xe\"></div><button id=\"569xe\"></button><output id=\"569xe\"><dd id=\"569xe\"><div id=\"569xe\"></div></dd></output><ins id=\"569xe\"><optgroup id=\"569xe\"><legend id=\"569xe\"></legend></optgroup></ins><td id=\"569xe\"></td><u id=\"569xe\"><code id=\"569xe\"><form id=\"569xe\"></form></code></u><optgroup id=\"569xe\"></optgroup><strike id=\"569xe\"></strike><form id=\"569xe\"><u id=\"569xe\"><samp id=\"569xe\"></samp></u></form><font id=\"569xe\"></font><address id=\"569xe\"></address><object id=\"569xe\"><nav id=\"569xe\"></nav></object><nobr id=\"569xe\"></nobr><progress id=\"569xe\"><em id=\"569xe\"></em></progress><optgroup id=\"569xe\"><dd id=\"569xe\"><video id=\"569xe\"><p id=\"569xe\"></p></video></dd></optgroup><nobr id=\"569xe\"><video id=\"569xe\"></video></nobr><pre id=\"569xe\"></pre><sub id=\"569xe\"><span id=\"569xe\"></span></sub><code id=\"569xe\"><nav id=\"569xe\"><div id=\"569xe\"><pre id=\"569xe\"></pre></div></nav></code><del id=\"569xe\"></del><bdo id=\"569xe\"></bdo><big id=\"569xe\"><strike id=\"569xe\"></strike></big><li id=\"569xe\"></li><meter id=\"569xe\"></meter><u id=\"569xe\"></u><track id=\"569xe\"/><object id=\"569xe\"><strong id=\"569xe\"><address id=\"569xe\"></address></strong></object><tt id=\"569xe\"><sub id=\"569xe\"></sub></tt><s id=\"569xe\"></s><object id=\"569xe\"></object><sup id=\"569xe\"></sup><cite id=\"569xe\"></cite><form id=\"569xe\"></form><nav id=\"569xe\"></nav><output id=\"569xe\"><cite id=\"569xe\"><small id=\"569xe\"><td id=\"569xe\"></td></small></cite></output><sub id=\"569xe\"><span id=\"569xe\"></span></sub><menuitem id=\"569xe\"/><xmp id=\"569xe\"><td id=\"569xe\"><strike id=\"569xe\"></strike></td></xmp><bdo id=\"569xe\"></bdo><tt id=\"569xe\"></tt><ruby id=\"569xe\"><mark id=\"569xe\"></mark></ruby><bdo id=\"569xe\"></bdo><em id=\"569xe\"><u id=\"569xe\"><samp id=\"569xe\"></samp></u></em><dd id=\"569xe\"><video id=\"569xe\"><output id=\"569xe\"></output></video></dd><dfn id=\"569xe\"><td id=\"569xe\"><option id=\"569xe\"></option></td></dfn><li id=\"569xe\"></li><output id=\"569xe\"><menuitem id=\"569xe\"/></output><mark id=\"569xe\"><progress id=\"569xe\"><option id=\"569xe\"></option></progress></mark></div>\n<div class=\"nav-wrap\" id=\"nav\">\n<div class=\"area\">\n<dl>\n<dt><span class=\"logo\"><script src=\"/1994/java/static/js/logo.js\" type=\"text/javascript\"></script>\n</span></dt>\n<dd class=\"mt\"><a href=\"/\"></a><a href=\"/\" target=\"_blank\"><i class=\"icon-home\"></i></a></dd>\n<dd><a href=\"/app.html\" target=\"_blank\"><i class=\"icon-app\"></i><span class=\"pc\">å®¢æ·ç«¯ä¸è½½</span></a></dd>\n</dl>\n</div>\n</div>\n<div id=\"sliderBox\"></div>\n<div class=\"menu-wrap\" id=\"menu\">\n<div class=\"area\">\n<dl class=\"first\">\n<dt><a href=\"#\">çµå½±åº</a></dt>\n<dd><a href=\"/569xe-movie/toupaizipai/\" target=\"_blank\">偷拍自拍</a></dd>\n<dd><a href=\"/569xe-movie/zhongwenyouma/\" target=\"_blank\">中文有码</a></dd>\n<dd><a href=\"/569xe-movie/zhongwenwuma/\" target=\"_blank\">中文无码</a></dd>\n<dd><a href=\"/569xe-movie/ribenyouma/\" target=\"_blank\">日本有码</a></dd>\n<dd><a href=\"/569xe-movie/ribenwuma/\" target=\"_blank\">日本无码</a></dd>\n<dd><a href=\"/569xe-movie/sanjijuqing/\" target=\"_blank\">三级激情</a></dd>\n<dd><a href=\"/569xe-movie/katongdongman/\" target=\"_blank\">卡通动漫</a></dd>\n<dd><a href=\"/569xe-movie/oumeiwuma/\" target=\"_blank\">激情欧美</a></dd>\n</dl>\n<dl>\n<dt><a href=\"#\">å¾çåº</a></dt>\n<dd><a href=\"/569xe-tupianqu/YSE/\" target=\"_blank\">亚洲色图</a></dd>\n<dd><a href=\"/569xe-tupianqu/TSE/\" target=\"_blank\">偷拍自拍</a></dd>\n<dd><a href=\"/569xe-tupianqu/OSE/\" target=\"_blank\">欧美色图</a></dd>\n<dd><a href=\"/569xe-tupianqu/QSE/\" target=\"_blank\">清纯唯美</a></dd>\n<dd><a href=\"/569xe-tupianqu/MSE/\" target=\"_blank\">美腿丝袜</a></dd>\n<dd><a href=\"/569xe-tupianqu/SSE/\" target=\"_blank\">少妇熟女</a></dd>\n<dd><a href=\"/569xe-tupianqu/MXSE/\" target=\"_blank\">明星淫乱</a></dd>\n<dd><a href=\"/569xe-tupianqu/KSE/\" target=\"_blank\">卡通动漫</a></dd>\n</dl>\n<dl>\n<dt><a href=\"#\">å°è¯´åº</a></dt>\n<dd><a href=\"/569xe-xiaoshuoqu/jiqingxiaoshuo/\" target=\"_blank\">都市激情</a></dd>\n<dd><a href=\"/569xe-xiaoshuoqu/jiatingluanlun/\" target=\"_blank\">家庭乱伦</a></dd>\n<dd><a href=\"/569xe-xiaoshuoqu/xiaoyuanchunse/\" target=\"_blank\">校园春色</a></dd>\n<dd><a href=\"/569xe-xiaoshuoqu/wuxiaxuanhuan/\" target=\"_blank\">武侠玄幻</a></dd>\n<dd><a href=\"/569xe-xiaoshuoqu/yinqijiaohuan/\" target=\"_blank\">淫妻交换</a></dd>\n<dd><a href=\"/569xe-xiaoshuoqu/qiangjianxilie/\" target=\"_blank\">强奸系列</a></dd>\n<dd><a href=\"/569xe-xiaoshuoqu/changpianlianzai/\" target=\"_blank\">长篇连载</a></dd>\n<dd><a href=\"/569xe-xiaoshuoqu/lingleixiaoshuo/\" target=\"_blank\">另类小说</a></dd>\n</dl>\n<div id=\"subMenuBox\"></div>\n</div>\n</div>\n<script src=\"/1994/java/static/js/headad.js\"></script>\n<div id=\"topBox\"></div>\n<div class=\"mod\">\n<div class=\"area\">\n<h1 class=\"h1-title\">性感苗条的少妇</h1>\n<div class=\"main-content\">\n<script src=\"/1994/java/static/js/nr1.js\"></script>\n<img src=\"http://pic1.988aiai.com/images/20200901/0011l4jeucq5pd.jpeg\"/><br/><img src=\"http://pic1.988aiai.com/images/20200901/002e3cxntkbhs4.jpeg\"/><br/><img src=\"http://pic1.988aiai.com/images/20200901/003pswevcvlytg.jpeg\"/><br/><img src=\"http://pic1.988aiai.com/images/20200901/0045oiv4tky4gg.jpeg\"/><br/><img src=\"http://pic1.988aiai.com/images/20200901/005ncqre0rjdaq.jpeg\"/><br/><img src=\"http://pic1.988aiai.com/images/20200901/006szpavrflhh2.jpeg\"/><br/><img src=\"http://pic1.988aiai.com/images/20200901/007hasa0g0ry0d.jpeg\"/><br/><img src=\"http://pic1.988aiai.com/images/20200901/008eglarvp25wg.jpeg\"/><br/><img src=\"http://pic1.988aiai.com/images/20200901/009otfcxjcb0au.jpeg\"/><br/><img src=\"http://pic1.988aiai.com/images/20200901/010owjswexsbcr.jpeg\"/><br/><img src=\"http://pic1.988aiai.com/images/20200901/0114alvkae31e3.jpeg\"/><br/><img src=\"http://pic1.988aiai.com/images/20200901/012yuf2zcatkvy.jpeg\"/><br/><img src=\"http://pic1.988aiai.com/images/20200901/013j3khmts1jhd.jpeg\"/><br/><img src=\"http://pic1.988aiai.com/images/20200901/01411od1lgs4gm.jpeg\"/><br/><img src=\"http://pic1.988aiai.com/images/20200901/015b0kmsbt2klk.jpeg\"/><br/><img src=\"http://pic1.988aiai.com/images/20200901/016azajdx0ggwh.jpeg\"/><br/><img src=\"http://pic1.988aiai.com/images/20200901/017jcvkt1a233x.jpeg\"/>\n<div class=\"pagination\"><ul></ul></div>\n<script src=\"/1994/java/static/js/nr2.js\"></script>\n</div>\n<div class=\"post-link\">\n\t\t\tä¸ä¸ç¯ï¼<a href=\"/569xe-tttppp/1402347.html\">å£æ´»èº«ææ»¡åçå¦¹å­</a> ä¸ä¸ç¯ï¼<a href=\"/569xe-tupianqu/TSE/\">è¿ååè¡¨</a> </div>\n</div>\n</div>\n<div id=\"bottomBox\"></div>\n<script language=\"javascript\" src=\"/1994/java/static/js/footad.js\" type=\"text/javascript\"></script>\n<script src=\"/1994/java/static/js/common.js\"></script>\n<script src=\"/1994/java/static/js/base.js\"></script>\n<script src=\"/1994/java/static/js/mail.js\"></script>\n<div style=\"DISPLAY: none\"><script src=\"/1994.js\"></script></div>\n<div style=\"display:none;\"><script src=\"/js/tongji1.js\" type=\"text/javascript\"></script></div>\n<script>\n(function(){\n    var bp = document.createElement('script');\n    var curProtocol = window.location.protocol.split(':')[0];\n    if (curProtocol === 'https') {\n        bp.src = 'https://zz.bdstatic.com/linksubmit/push.js';        \n    }\n    else {\n        bp.src = 'http://push.zhanzhang.baidu.com/push.js';\n    }\n    var s = document.getElementsByTagName(\"script\")[0];\n    s.parentNode.insertBefore(bp, s);\n})();\n</script>\n</body>\n</html>"
     },
     "metadata": {},
     "execution_count": 3
    }
   ],
   "source": [
    "soup"
   ]
  },
  {
   "cell_type": "code",
   "execution_count": 4,
   "metadata": {},
   "outputs": [
    {
     "output_type": "execute_result",
     "data": {
      "text/plain": "['http://pic1.988aiai.com/images/20200901/0011l4jeucq5pd.jpeg',\n 'http://pic1.988aiai.com/images/20200901/002e3cxntkbhs4.jpeg',\n 'http://pic1.988aiai.com/images/20200901/003pswevcvlytg.jpeg',\n 'http://pic1.988aiai.com/images/20200901/0045oiv4tky4gg.jpeg',\n 'http://pic1.988aiai.com/images/20200901/005ncqre0rjdaq.jpeg',\n 'http://pic1.988aiai.com/images/20200901/006szpavrflhh2.jpeg',\n 'http://pic1.988aiai.com/images/20200901/007hasa0g0ry0d.jpeg',\n 'http://pic1.988aiai.com/images/20200901/008eglarvp25wg.jpeg',\n 'http://pic1.988aiai.com/images/20200901/009otfcxjcb0au.jpeg',\n 'http://pic1.988aiai.com/images/20200901/010owjswexsbcr.jpeg',\n 'http://pic1.988aiai.com/images/20200901/0114alvkae31e3.jpeg',\n 'http://pic1.988aiai.com/images/20200901/012yuf2zcatkvy.jpeg',\n 'http://pic1.988aiai.com/images/20200901/013j3khmts1jhd.jpeg',\n 'http://pic1.988aiai.com/images/20200901/01411od1lgs4gm.jpeg',\n 'http://pic1.988aiai.com/images/20200901/015b0kmsbt2klk.jpeg',\n 'http://pic1.988aiai.com/images/20200901/016azajdx0ggwh.jpeg',\n 'http://pic1.988aiai.com/images/20200901/017jcvkt1a233x.jpeg']"
     },
     "metadata": {},
     "execution_count": 4
    }
   ],
   "source": [
    "imgs = soup.find_all('img')\n",
    "img_urls = []\n",
    "for img in imgs:\n",
    "    img_url = img.get('src')\n",
    "    img_urls.append(img_url)\n",
    "img_urls"
   ]
  },
  {
   "cell_type": "code",
   "execution_count": 8,
   "metadata": {
    "tags": []
   },
   "outputs": [
    {
     "output_type": "stream",
     "name": "stdout",
     "text": "downlading ...0 : NO.0\ndownlading ...1 : NO.1\ndownlading ...2 : NO.2\ndownlading ...3 : NO.3\ndownlading ...4 : NO.4\ndownlading ...5 : NO.5\ndownlading ...6 : NO.6\ndownlading ...7 : NO.7\ndownlading ...8 : NO.8\ndownlading ...9 : NO.9\ndownlading ...10 : NO.10\ndownlading ...11 : NO.11\ndownlading ...12 : NO.12\ndownlading ...13 : NO.13\ndownlading ...14 : NO.14\ndownlading ...15 : NO.15\ndownlading ...16 : NO.16\n"
    }
   ],
   "source": [
    "def header(referer):\n",
    "\n",
    "    headers = {\n",
    "        'Host': 'i.meizitu.net',\n",
    "        'Pragma': 'no-cache',\n",
    "        'Accept-Encoding': 'gzip, deflate',\n",
    "        'Accept-Language': 'zh-CN,zh;q=0.8,en;q=0.6',\n",
    "        'Cache-Control': 'no-cache',\n",
    "        'Connection': 'keep-alive',\n",
    "        'User-Agent': 'Mozilla/5.0 (Windows NT 6.1; Win64; x64) AppleWebKit/537.36 (KHTML, like Gecko) Chrome/72.0.3626.121 Safari/537.36',\n",
    "        'Accept': 'image/webp,image/apng,image/*,*/*;q=0.8',\n",
    "        'Referer': '{}'.format(referer),\n",
    "    }\n",
    "\n",
    "\n",
    "folder = os.path.exists('images')\n",
    "\n",
    "if not folder:\n",
    "    os.makedirs('images')\n",
    "\n",
    "for i,url in enumerate(img_urls):\n",
    "    filename = f'images/{i}.jpeg'\n",
    "    print(f'downlading ...{i} : NO.{i}')\n",
    "    with open(filename, 'wb') as f:\n",
    "        img = requests.get(url, headers=header(url)).content\n",
    "        f.write(img)"
   ]
  },
  {
   "cell_type": "code",
   "execution_count": null,
   "metadata": {},
   "outputs": [],
   "source": []
  }
 ]
}